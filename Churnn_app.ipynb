{
 "cells": [
  {
   "cell_type": "code",
   "execution_count": 1,
   "id": "1cbbe770",
   "metadata": {},
   "outputs": [
    {
     "name": "stderr",
     "output_type": "stream",
     "text": [
      "2023-08-24 22:30:46.322 \n",
      "  \u001b[33m\u001b[1mWarning:\u001b[0m to view this Streamlit app on a browser, run it with the following\n",
      "  command:\n",
      "\n",
      "    streamlit run C:\\Users\\ABHISHEK\\anaconda3\\lib\\site-packages\\ipykernel_launcher.py [ARGUMENTS]\n"
     ]
    }
   ],
   "source": [
    "from sklearn import preprocessing \n",
    "import streamlit as st\n",
    "import pandas as pd\n",
    "import matplotlib.pyplot as plt\n",
    "import seaborn as sns\n",
    "import pickle\n",
    "\n",
    "# Load the trained model\n",
    "filename = 'model.churn'\n",
    "loaded_model = pickle.load(open(filename, 'rb'))\n",
    "\n",
    "# Set background color and title\n",
    "st.markdown('<style>body{background-color: Blue;}</style>', unsafe_allow_html=True)\n",
    "st.title(\"Churn Prediction\")\n",
    "\n",
    "# Create input fields using Streamlit's form\n",
    "with st.form(\"my_form\"):\n",
    "    Age = st.number_input(\"Age\", min_value=18, max_value=100, value=30)\n",
    "    Gender = st.selectbox(\"Gender\",['0','1'])\n",
    "    Location = st.selectbox(\"Location\",['0','1','2','3','4'])\n",
    "    Subscription_Length_Months = st.number_input(\"Subscription Length (Months)\", min_value=1, max_value=24, value=12)\n",
    "    Monthly_Bill = st.number_input(\"Monthly Bill\", min_value=0, value=50)\n",
    "    Total_Usage_GB = st.number_input(\"Total Usage (GB)\", min_value=0, value=10)\n",
    "\n",
    "    submitted = st.form_submit_button(\"Submit\")\n",
    "\n",
    "\n",
    "# If form submitted, make prediction and display results\n",
    "if submitted:\n",
    "    # Prepare input data for prediction\n",
    "    input_data = {\n",
    "        'Age': [Age],\n",
    "        'Gender': [Gender],\n",
    "        'Location': [Location],\n",
    "        'Subscription_Length_Months': [Subscription_Length_Months],\n",
    "        'Monthly_Bill': [Monthly_Bill],\n",
    "        'Total_Usage_GB': [Total_Usage_GB]\n",
    "    }\n",
    "\n",
    "    input_df = pd.DataFrame(input_data)  # Convert the dictionary to a DataFrame\n",
    "    input_array = input_df.values  # Convert the DataFrame to a 2D numpy array\n",
    "\n",
    "    # Make prediction\n",
    "    cluster = loaded_model.predict(input_array)[0]\n",
    "    st.write('Data Belongs to Cluster:', cluster)"
   ]
  },
  {
   "cell_type": "code",
   "execution_count": null,
   "id": "95c0f60d",
   "metadata": {},
   "outputs": [],
   "source": []
  },
  {
   "cell_type": "code",
   "execution_count": null,
   "id": "6bb10467",
   "metadata": {},
   "outputs": [],
   "source": []
  }
 ],
 "metadata": {
  "kernelspec": {
   "display_name": "Python 3 (ipykernel)",
   "language": "python",
   "name": "python3"
  },
  "language_info": {
   "codemirror_mode": {
    "name": "ipython",
    "version": 3
   },
   "file_extension": ".py",
   "mimetype": "text/x-python",
   "name": "python",
   "nbconvert_exporter": "python",
   "pygments_lexer": "ipython3",
   "version": "3.9.13"
  }
 },
 "nbformat": 4,
 "nbformat_minor": 5
}
